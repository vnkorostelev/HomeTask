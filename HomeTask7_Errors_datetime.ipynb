{
 "cells": [
  {
   "cell_type": "markdown",
   "metadata": {},
   "source": [
    "#### Задача№1"
   ]
  },
  {
   "cell_type": "code",
   "execution_count": 1,
   "metadata": {},
   "outputs": [],
   "source": [
    "from datetime import datetime"
   ]
  },
  {
   "cell_type": "code",
   "execution_count": 3,
   "metadata": {},
   "outputs": [
    {
     "name": "stdout",
     "output_type": "stream",
     "text": [
      "2002-10-02 00:00:00\n"
     ]
    }
   ],
   "source": [
    "The_Moscow_Times = 'Wednesday, October 2, 2002'\n",
    "datetime_The_MT = datetime.strptime(The_Moscow_Times, '%A, %B %d, %Y')\n",
    "print(datetime_The_MT)"
   ]
  },
  {
   "cell_type": "code",
   "execution_count": 4,
   "metadata": {},
   "outputs": [
    {
     "name": "stdout",
     "output_type": "stream",
     "text": [
      "2013-10-11 00:00:00\n"
     ]
    }
   ],
   "source": [
    "The_Guardian = 'Friday, 11.10.13'\n",
    "datetime_The_G = datetime.strptime(The_Guardian, '%A, %d.%m.%y')\n",
    "print(datetime_The_G)"
   ]
  },
  {
   "cell_type": "code",
   "execution_count": 5,
   "metadata": {},
   "outputs": [
    {
     "name": "stdout",
     "output_type": "stream",
     "text": [
      "1977-08-18 00:00:00\n"
     ]
    }
   ],
   "source": [
    "Daily_News = 'Thursday, 18 August 1977'\n",
    "datetime_DN = datetime.strptime(Daily_News, '%A, %d %B %Y')\n",
    "print(datetime_DN)"
   ]
  },
  {
   "cell_type": "markdown",
   "metadata": {},
   "source": [
    "#### Задача№2"
   ]
  },
  {
   "cell_type": "code",
   "execution_count": 36,
   "metadata": {},
   "outputs": [
    {
     "name": "stdout",
     "output_type": "stream",
     "text": [
      "Дата корректна\n",
      "Некорректная дата\n",
      "Некорректная дата\n"
     ]
    }
   ],
   "source": [
    "from datetime import datetime\n",
    "\n",
    "stream = ['2018-04-02', '2018-02-29', '2018-19-02']\n",
    "\n",
    "def correct_date(stream):\n",
    "    for date in stream:\n",
    "        try:\n",
    "            date_list = datetime.strptime(date, '%Y-%m-%d')\n",
    "            print('Дата корректна')\n",
    "        except ValueError:\n",
    "            print('Некорректная дата')\n",
    "correct_date(stream)"
   ]
  },
  {
   "cell_type": "markdown",
   "metadata": {},
   "source": [
    "#### Задача№3"
   ]
  },
  {
   "cell_type": "code",
   "execution_count": 35,
   "metadata": {},
   "outputs": [
    {
     "name": "stdout",
     "output_type": "stream",
     "text": [
      "Введите начальную дату в формате YYYY-MM-DD: 12-12-3444\n",
      "Введите конечную дату в формате YYYY-MM-DD: 12-45-6788\n",
      "[]\n"
     ]
    }
   ],
   "source": [
    "from datetime import timedelta\n",
    "\n",
    "def date_range():\n",
    "    start_date = input('Введите начальную дату в формате YYYY-MM-DD: ')\n",
    "    end_date = input('Введите конечную дату в формате YYYY-MM-DD: ')\n",
    "    \n",
    "    lists_date = []\n",
    "    \n",
    "    try:\n",
    "        d1 = datetime.strptime(start_date, '%Y-%m-%d')\n",
    "        d2 = datetime.strptime(end_date, '%Y-%m-%d')\n",
    "        current_dt = d1\n",
    "        while current_dt <= d2:\n",
    "            current_dt += timedelta(days=1)\n",
    "            lists_date.append(current_dt.strftime('%Y-%m-%d'))\n",
    "        print(lists_date)\n",
    "    except ValueError:\n",
    "        print(lists_date)\n",
    "\n",
    "\n",
    "date_range() "
   ]
  },
  {
   "cell_type": "code",
   "execution_count": null,
   "metadata": {},
   "outputs": [],
   "source": []
  },
  {
   "cell_type": "code",
   "execution_count": null,
   "metadata": {},
   "outputs": [],
   "source": []
  }
 ],
 "metadata": {
  "kernelspec": {
   "display_name": "Python 3",
   "language": "python",
   "name": "python3"
  },
  "language_info": {
   "codemirror_mode": {
    "name": "ipython",
    "version": 3
   },
   "file_extension": ".py",
   "mimetype": "text/x-python",
   "name": "python",
   "nbconvert_exporter": "python",
   "pygments_lexer": "ipython3",
   "version": "3.8.3"
  }
 },
 "nbformat": 4,
 "nbformat_minor": 4
}
