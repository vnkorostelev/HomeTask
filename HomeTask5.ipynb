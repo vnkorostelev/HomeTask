{
 "cells": [
  {
   "cell_type": "code",
   "execution_count": 73,
   "metadata": {},
   "outputs": [],
   "source": [
    "documents = [\n",
    " {'type': 'passport', 'number': '2207 876234', 'name': 'Василий Гупкин'},\n",
    " {'type': 'invoice', 'number': '11-2', 'name': 'Геннадий Покемонов'},\n",
    " {'type': 'insurance', 'number': '10006', 'name': 'Аристарх Павлов'}\n",
    "]\n",
    "directories = {\n",
    " '1': ['2207 876234', '11-2'],\n",
    " '2': ['10006'],\n",
    " '3': []\n",
    "}"
   ]
  },
  {
   "cell_type": "markdown",
   "metadata": {},
   "source": [
    "# Задание 1"
   ]
  },
  {
   "cell_type": "code",
   "execution_count": 112,
   "metadata": {},
   "outputs": [
    {
     "name": "stdout",
     "output_type": "stream",
     "text": [
      "Введите команду (p,s,l,ads,ds,q): q\n"
     ]
    }
   ],
   "source": [
    "def p(numbers):\n",
    "    for doc_numbers in documents:\n",
    "        if doc_numbers[\"number\"] == numbers:\n",
    "            print(f'Владелец документа: {doc_numbers[\"name\"]}')\n",
    "            break\n",
    "    else:\n",
    "        print('Такого номера документа нет в базе.')\n",
    "\n",
    "\n",
    "def s(numbers):\n",
    "    for shelf_directories in directories.items():\n",
    "        for doc_numbers in shelf_directories[1]:\n",
    "            if doc_numbers in numbers:\n",
    "                print(f'Данный документ должен лежать на полке {shelf_directories[0]}')\n",
    "                break\n",
    "    else:\n",
    "        print('Такого номера документа нет в базе.')\n",
    "\n",
    "\n",
    "def l():\n",
    "    for persons in documents:\n",
    "        doc_numbers = persons['number']\n",
    "        for shelf,doc in directories.items():\n",
    "            if doc_numbers in doc:\n",
    "                shelf_number = shelf\n",
    "                print(f'№: {persons[\"number\"]}, тип: {persons[\"type\"]}, владелец: {persons[\"name\"]}, полка хранения: {shelf_number}')\n",
    "\n",
    "\n",
    "def ads(number):\n",
    "\n",
    "    for direct in directories.items():\n",
    "        if number in direct[0]: \n",
    "            print('Такая полка уже существует. Текущий перечень полок:') \n",
    "            print(*directories.keys(), sep=', ')\n",
    "            break\n",
    "    else:\n",
    "        directories[number] = []\n",
    "        print('Полка добавлена. Текущий перечень полок:')\n",
    "        print(*directories.keys(), sep=', ')\n",
    "        \n",
    "\n",
    "        \n",
    "\n",
    "\n",
    "  \n",
    "      \n",
    "\n",
    "while True:\n",
    "        user_input = input('Введите команду (p,s,l,ads,ds,q): ')\n",
    "        if user_input == 'p':\n",
    "            p(input('Введите номер документа:'))\n",
    "        elif user_input == 's':\n",
    "            s(input('Введите номер документа:'))\n",
    "        elif user_input == 'l':\n",
    "            l()\n",
    "        elif user_input == 'ads':\n",
    "            ads(input('Введите номер новой полки:'))\n",
    "        elif user_input == 'ds':\n",
    "            ds(input('Введите номер полки:'))    \n",
    "        elif user_input == 'q':\n",
    "            break\n",
    "        else:\n",
    "            print('Вы ввели некорректную команду, повторите ввод.')\n",
    "            break\n",
    "    \n"
   ]
  },
  {
   "cell_type": "code",
   "execution_count": null,
   "metadata": {},
   "outputs": [],
   "source": []
  }
 ],
 "metadata": {
  "kernelspec": {
   "display_name": "Python 3",
   "language": "python",
   "name": "python3"
  },
  "language_info": {
   "codemirror_mode": {
    "name": "ipython",
    "version": 3
   },
   "file_extension": ".py",
   "mimetype": "text/x-python",
   "name": "python",
   "nbconvert_exporter": "python",
   "pygments_lexer": "ipython3",
   "version": "3.8.3"
  }
 },
 "nbformat": 4,
 "nbformat_minor": 4
}
