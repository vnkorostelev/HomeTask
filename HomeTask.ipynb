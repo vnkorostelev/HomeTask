{
 "cells": [
  {
   "cell_type": "code",
   "execution_count": 1,
   "metadata": {
    "scrolled": true
   },
   "outputs": [
    {
     "name": "stdout",
     "output_type": "stream",
     "text": [
      "ВВедите Фразу 1: Привет\n",
      "ВВедите Фразу 2: Приветик\n",
      "Фраза 2 длинее фразы 1\n"
     ]
    }
   ],
   "source": [
    "#Задача1\n",
    "\n",
    "phrase_1 = input('ВВедите Фразу 1: ')\n",
    "phrase_2 = input('ВВедите Фразу 2: ')\n",
    "if len(phrase_1) > len(phrase_2):\n",
    "    print('Фраза 1 длинее фразы 2')\n",
    "elif len(phrase_1) < len(phrase_2):\n",
    "    print('Фраза 2 длинее фразы 1')\n",
    "else:\n",
    "    print('Фразы равной длины')"
   ]
  },
  {
   "cell_type": "code",
   "execution_count": null,
   "metadata": {},
   "outputs": [],
   "source": [
    "#Задача2\n",
    "\n",
    "year = int(input('Введите год: '))\n",
    "if year % 4 == 0:\n",
    "    print('Високосный год')\n",
    "else:\n",
    "    print('Обычный год')"
   ]
  },
  {
   "cell_type": "code",
   "execution_count": null,
   "metadata": {},
   "outputs": [],
   "source": [
    "#Задача3\n",
    "\n",
    "day = int(input('Введите день: '))\n",
    "month = input('Введите месяц: ')\n",
    "jan = 'Январь'\n",
    "feb = 'Февраль'\n",
    "mart = 'Март'\n",
    "apr = \"Апрель\"\n",
    "may = 'Май'\n",
    "jun = 'Июнь'\n",
    "jul = 'Июль'\n",
    "aug = 'Август'\n",
    "sep = 'Сентябрь'\n",
    "octob = 'Октябрь'\n",
    "nov = 'Ноябрь'\n",
    "dec = 'Декабрь'\n",
    "if (21 <= day <= 31 and month == mart) or (1 <= day <= 19 and month == apr):\n",
    "    print('Ваш знак зодиака: ОВЕН')\n",
    "elif (20 <= day <= 31 and month == apr) or (1 <= day <= 20 and month == may):\n",
    "    print('Ваш знак зодиака: ТЕЛЕЦ')\n",
    "elif (21 <= day <= 31 and month == may) or (1 <= day <= 21 and month == jun):\n",
    "    print('Ваш знак зодиака: БЛИЗНЕЦЫ')\n",
    "elif (22 <= day <= 31 and month == jun) or (1 <= day <= 22 and month == jul):\n",
    "    print('Ваш знак зодиака: РАК')\n",
    "elif (23 <= day <= 31 and month == jul) or (1 <= day <= 22 and month == aug):\n",
    "    print('Ваш знак зодиака: ЛЕВ')\n",
    "elif (23 <= day <= 31 and month == aug) or (1 <= day <= 22 and month == sep):\n",
    "    print('Ваш знак зодиака: ДЕВА')\n",
    "elif (23 <= day <= 31 and month == sep) or (1 <= day <= 23 and month == octob):\n",
    "    print('Ваш знак зодиака: ВЕСЫ')\n",
    "elif (24 <= day <= 31 and month == octob) or (1 <= day <= 22 and month == nov):\n",
    "    print('Ваш знак зодиака: СКОРПИОН')\n",
    "elif (23 <= day <= 31 and month == nov) or (1 <= day <= 21 and month == dec):\n",
    "    print('Ваш знак зодиака: СТРЕЛЕЦ')\n",
    "elif (22 <= day <= 31 and month == dec) or (1 <= day <= 20 and month == jan):\n",
    "    print('Ваш знак зодиака: КОЗЕРОГ')\n",
    "elif (21 <= day <= 31 and month == jan) or (1 <= day <= 18 and month == feb):\n",
    "    print('Ваш знак зодиака: ВОДОЛЕЙ')\n",
    "elif (19 <= day <= 31 and month == feb) or (1 <= day <= 20 and month == mart):\n",
    "    print('Ваш знак зодиака: РЫБЫ')"
   ]
  },
  {
   "cell_type": "code",
   "execution_count": null,
   "metadata": {},
   "outputs": [],
   "source": [
    "#Задача4\n",
    "\n",
    "width = int(input('Введите ширину (см):'))\n",
    "length = int(input('Введите длину (см):'))\n",
    "height = int(input('Введите высоту (см):'))\n",
    "if width <= 15 and length <= 15 and height <= 15:\n",
    "    print('Коробка №1')\n",
    "elif 15 < width <= 50 and 15 < length <= 50 and 15 < height <= 50:\n",
    "    print('Коробка №2')\n",
    "elif length >= 200:\n",
    "    print('Упаковка для лыж')\n",
    "else:\n",
    "    print('Стандартная коробка №3')"
   ]
  },
  {
   "cell_type": "code",
   "execution_count": 10,
   "metadata": {},
   "outputs": [
    {
     "name": "stdout",
     "output_type": "stream",
     "text": [
      "Введите шестизначный номер билета: 123456\n",
      "Несчастливый билет\n"
     ]
    }
   ],
   "source": [
    "#Задача5\n",
    "\n",
    "n = input('Введите шестизначный номер билета: ')\n",
    "if int (n [0]) + int (n [1]) + int (n [2]) == int (n [3]) + int (n [4]) + int (n [5]):\n",
    "    print('Счастливый билет')\n",
    "else:\n",
    "    print('Несчастливый билет')"
   ]
  },
  {
   "cell_type": "code",
   "execution_count": 6,
   "metadata": {},
   "outputs": [
    {
     "name": "stdout",
     "output_type": "stream",
     "text": [
      "введите одну из фигур (круг,треугольник,прямоугольник): круг\n",
      "Введите радиус: 10\n",
      "Площадь фигуры: 314.1592653589793\n"
     ]
    }
   ],
   "source": [
    "#Задача6\n",
    "\n",
    "import math\n",
    "fig = input('введите одну из фигур (круг,треугольник,прямоугольник): ')\n",
    "if fig == 'круг':\n",
    "    r = int(input('Введите радиус: ')) \n",
    "    s = math.pi * (r**2)\n",
    "elif fig == 'треугольник':\n",
    "    a = int(input('Введите длину стороны a: '))\n",
    "    b = int(input('Введите длину стороны b: '))\n",
    "    c = int(input('Введите длину стороны c: '))\n",
    "    p = (a + b +c)/2   \n",
    "    s = math.sqrt(p * (p-a) * (p-b) * (p-c))\n",
    "elif fig =='прямоугольник':\n",
    "    a = int(input('Введите длину стороны a: '))\n",
    "    b = int(input('Введите длину стороны b: '))\n",
    "    s = a * b\n",
    "print ('Площадь фигуры:', s)"
   ]
  }
 ],
 "metadata": {
  "kernelspec": {
   "display_name": "Python 3",
   "language": "python",
   "name": "python3"
  },
  "language_info": {
   "codemirror_mode": {
    "name": "ipython",
    "version": 3
   },
   "file_extension": ".py",
   "mimetype": "text/x-python",
   "name": "python",
   "nbconvert_exporter": "python",
   "pygments_lexer": "ipython3",
   "version": "3.8.3"
  }
 },
 "nbformat": 4,
 "nbformat_minor": 4
}
