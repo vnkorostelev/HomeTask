{
 "cells": [
  {
   "cell_type": "markdown",
   "metadata": {},
   "source": [
    "### Задача№1\n",
    "\n",
    "Напишите функцию, которая принимает на вход строку и проверяет является ли она валидным транспортным номером (1 буква, 3 цифры, 2 буквы, 2-3 цифры). Обратите внимание, что не все буквы кириллического алфавита используются в транспортных номерах.\n",
    "\n",
    "Если номер валиден, то функция должна возвращать отдельно номер и регион."
   ]
  },
  {
   "cell_type": "code",
   "execution_count": 1,
   "metadata": {},
   "outputs": [],
   "source": [
    "import re"
   ]
  },
  {
   "cell_type": "code",
   "execution_count": 2,
   "metadata": {},
   "outputs": [
    {
     "name": "stdout",
     "output_type": "stream",
     "text": [
      "Номер В562УВ валиден. Регион:112\n",
      "Номер не валиден\n"
     ]
    }
   ],
   "source": [
    "def number(car_id):\n",
    "    pattern_id = re.search(r'([АВЕКМНОРСТУХ]{1}\\d{3}[АВЕКМНОРСТУХ]{2})(\\d{2,3})',car_id)\n",
    "    if car_id == pattern_id.group():    \n",
    "        print(f'Номер {pattern_id.group(1)} валиден. Регион:{pattern_id.group(2)}')\n",
    "    else:\n",
    "        print('Номер не валиден')\n",
    "\n",
    "number('В562УВ112')\n",
    "number('ВА562УВ112')"
   ]
  },
  {
   "cell_type": "markdown",
   "metadata": {},
   "source": [
    "### Задача№2\n",
    "\n",
    "Напишите функцию, которая будет удалять все последовательные повторы слов из заданной строки при помощи регулярных выражений."
   ]
  },
  {
   "cell_type": "code",
   "execution_count": 3,
   "metadata": {},
   "outputs": [],
   "source": [
    "some_string = 'Напишите функцию функцию, которая будет будет будет будет удалять все все все все последовательные повторы слов из из из из заданной строки строки при помощи регулярных выражений'"
   ]
  },
  {
   "cell_type": "code",
   "execution_count": 4,
   "metadata": {},
   "outputs": [
    {
     "name": "stdout",
     "output_type": "stream",
     "text": [
      "Напишите функцию, которая будет удалять все последовательные повторы слов из заданной строки при помощи регулярных выражений\n"
     ]
    }
   ],
   "source": [
    "def repeat():\n",
    "    pattern = re.sub(r'(\\w+)(\\s\\1)+', r'\\1',some_string)\n",
    "    print(pattern)\n",
    "repeat()"
   ]
  },
  {
   "cell_type": "markdown",
   "metadata": {},
   "source": [
    "### Задача№3\n",
    "\n",
    "Напишите функцию, которая будет возвращать акроним по переданной в нее строке со словами."
   ]
  },
  {
   "cell_type": "code",
   "execution_count": 5,
   "metadata": {},
   "outputs": [],
   "source": [
    "# some_words = 'Информационные Технологии'\n",
    "some_words = 'Near Field Communication'"
   ]
  },
  {
   "cell_type": "code",
   "execution_count": 6,
   "metadata": {},
   "outputs": [
    {
     "name": "stdout",
     "output_type": "stream",
     "text": [
      "NFC\n"
     ]
    }
   ],
   "source": [
    "def acr():\n",
    "    acronim = re.sub(r'(\\w)(\\w+)\\s?',r'\\1',some_words)\n",
    "    print(acronim)\n",
    "                     \n",
    "acr()"
   ]
  },
  {
   "cell_type": "markdown",
   "metadata": {},
   "source": [
    "### Задача 4\n",
    "\n",
    "Напишите функцию, которая будет принимать на вход список email-адресов и выводить их распределение по доменным зонам."
   ]
  },
  {
   "cell_type": "code",
   "execution_count": 51,
   "metadata": {},
   "outputs": [],
   "source": [
    "emails = ['test@gmail.com', 'xyz@test.in', 'test@ya.ru', 'xyz@mail.ru', 'xyz@ya.ru', 'xyz@gmail.com']"
   ]
  },
  {
   "cell_type": "code",
   "execution_count": 68,
   "metadata": {},
   "outputs": [
    {
     "name": "stdout",
     "output_type": "stream",
     "text": [
      "gmail.com:2\n",
      "test.in:1\n",
      "ya.ru:2\n",
      "mail.ru:1\n"
     ]
    }
   ],
   "source": [
    "def domain_count():\n",
    "    email_pattern = r'\\w+\\@(\\w+.\\w+)'\n",
    "    count ={}\n",
    "\n",
    "    for dom in emails:\n",
    "        domain = re.sub(r'\\w+\\@(\\w+.\\w+)', r'\\1', dom)\n",
    "        if domain not in count:\n",
    "            count[domain] = 1\n",
    "        else:\n",
    "            count[domain] += 1\n",
    "    for k,v in count.items():\n",
    "        print(k,v, sep = ':')\n",
    "    \n",
    "domain_count()"
   ]
  },
  {
   "cell_type": "code",
   "execution_count": null,
   "metadata": {},
   "outputs": [],
   "source": []
  }
 ],
 "metadata": {
  "kernelspec": {
   "display_name": "Python 3",
   "language": "python",
   "name": "python3"
  },
  "language_info": {
   "codemirror_mode": {
    "name": "ipython",
    "version": 3
   },
   "file_extension": ".py",
   "mimetype": "text/x-python",
   "name": "python",
   "nbconvert_exporter": "python",
   "pygments_lexer": "ipython3",
   "version": "3.8.3"
  }
 },
 "nbformat": 4,
 "nbformat_minor": 4
}
